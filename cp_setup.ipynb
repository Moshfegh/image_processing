{
 "cells": [
  {
   "cell_type": "code",
   "execution_count": 1,
   "id": "69dbd16d-9bc6-413f-a7c5-96c735e60c2a",
   "metadata": {},
   "outputs": [],
   "source": [
    "import os\n",
    "import pandas"
   ]
  },
  {
   "cell_type": "code",
   "execution_count": null,
   "id": "13e19489-f101-43d2-9db2-6473e88a4af6",
   "metadata": {},
   "outputs": [],
   "source": [
    "os.system('cp ../20241008/p3/a549_20241008.cppipe ./')"
   ]
  },
  {
   "cell_type": "code",
   "execution_count": null,
   "id": "99e5604b-aea6-4e6a-be57-9f070923e6b6",
   "metadata": {},
   "outputs": [],
   "source": [
    "for p in [1,2,3,4]:\n",
    "    os.system('mkdir plate' + str(p))"
   ]
  },
  {
   "cell_type": "code",
   "execution_count": null,
   "id": "09bedc2f-ab01-465a-b764-f930293da9cc",
   "metadata": {},
   "outputs": [],
   "source": [
    "for p in [1,2,3,4]:\n",
    "    tmp = pandas.read_csv('treatments_plate' + str(p) + '.txt', sep='\\t')\n",
    "    tmp.to_csv('plate' + str(p) + '/treatments.csv', index=0)"
   ]
  },
  {
   "cell_type": "code",
   "execution_count": 2,
   "id": "2e7a0d1d-4d04-441f-acb6-1507c344ae0d",
   "metadata": {},
   "outputs": [],
   "source": [
    "# manually change cppipe file to change names & treatments file path"
   ]
  },
  {
   "cell_type": "code",
   "execution_count": null,
   "id": "ce631e3d-1f92-4db9-9482-d969b2d3453b",
   "metadata": {},
   "outputs": [],
   "source": [
    "for p in [1,2,3,4]:\n",
    "    os.system('cp a549_20241008.cppipe plate' + str(p) + '/iNeuron_20241127.cppipe')\n",
    "    os.system(\"sed -i 's/plate1/plate\" + str(p) + \"/g' plate\" + str(p) + \"/iNeuron_20241127.cppipe\")"
   ]
  },
  {
   "cell_type": "code",
   "execution_count": null,
   "id": "5b310375-35de-4fda-ab10-1900af1c15d4",
   "metadata": {},
   "outputs": [],
   "source": [
    "# move to lgr2 server to run cellprofiler:\n",
    "cd rescaled_imgs\n",
    "rsync -av * 10.39.75.156:/home/ymoshfegh/1014e/20241127/rescaled_imgs/\n",
    "cd masks_tif\n",
    "rsync -av * 10.39.75.156:/home/ymoshfegh/1014e/20241127/masks_tif/"
   ]
  },
  {
   "cell_type": "code",
   "execution_count": null,
   "id": "c37e05cc-81d0-451d-97c2-f04ba025d8cd",
   "metadata": {},
   "outputs": [],
   "source": [
    "# files for cellprofiler:\n",
    "\n",
    "import pathlib\n",
    "def cp_files(p):\n",
    "    file_list = list(pathlib.Path('.').absolute().glob('rescaled_imgs/plate' + str(p) + '/*.tif'))  + list(pathlib.Path('.').absolute().glob('masks_tif/plate' + str(p) + '/*.tif'))\n",
    "    files = [str(file) for file in file_list]\n",
    "    \n",
    "    with open('plate' + str(p) +'/files_p' + str(p) + '.txt', 'w') as f:\n",
    "      f.write('\\n'.join(str(i) for i in files))"
   ]
  },
  {
   "cell_type": "code",
   "execution_count": null,
   "id": "a8702bfc-ca92-427f-b56a-08ac317fd28e",
   "metadata": {},
   "outputs": [],
   "source": [
    "#### on LGR2 server #####\n",
    "# in plate* folders:\n",
    "nohup cellprofiler -c -r -p ./iNeuron_20241127.cppipe -o ./ --file-list files.txt &"
   ]
  },
  {
   "cell_type": "code",
   "execution_count": null,
   "id": "0140e718-a28b-4b92-a9fc-7d2ec3e3b97c",
   "metadata": {},
   "outputs": [],
   "source": []
  },
  {
   "cell_type": "code",
   "execution_count": null,
   "id": "7a353266-3474-4cc8-9217-18eac836ad35",
   "metadata": {},
   "outputs": [],
   "source": []
  }
 ],
 "metadata": {
  "kernelspec": {
   "display_name": "Python 3 (ipykernel)",
   "language": "python",
   "name": "python3"
  },
  "language_info": {
   "codemirror_mode": {
    "name": "ipython",
    "version": 3
   },
   "file_extension": ".py",
   "mimetype": "text/x-python",
   "name": "python",
   "nbconvert_exporter": "python",
   "pygments_lexer": "ipython3",
   "version": "3.10.15"
  }
 },
 "nbformat": 4,
 "nbformat_minor": 5
}
