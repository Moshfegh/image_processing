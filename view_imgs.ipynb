{
 "cells": [
  {
   "cell_type": "code",
   "execution_count": 1,
   "id": "02636e96-4f76-42d7-9c06-417d1f23c753",
   "metadata": {},
   "outputs": [],
   "source": [
    "import warnings\n",
    "warnings.filterwarnings('ignore')\n",
    "import pandas\n",
    "import numpy\n",
    "import matplotlib.pyplot as plt\n",
    "import glob"
   ]
  },
  {
   "cell_type": "code",
   "execution_count": 2,
   "id": "1798572f-e0e0-4d27-b441-606305699ef1",
   "metadata": {},
   "outputs": [],
   "source": [
    "# metadata file(s) for each plate:\n",
    "path = '/home/ymoshfegh/1014e/20241217/'\n",
    "treatments = pandas.read_csv(path + 'treatments.txt', sep='\\t')\n",
    "treatments1 = pandas.read_csv(path + 'treatments_plate1.txt', sep='\\t')\n",
    "treatments2 = pandas.read_csv(path + 'treatments_plate2.txt', sep='\\t')\n",
    "treatments3 = pandas.read_csv(path + 'treatments_plate3.txt', sep='\\t')\n",
    "treatments4 = pandas.read_csv(path + 'treatments_plate4.txt', sep='\\t')"
   ]
  },
  {
   "cell_type": "markdown",
   "id": "3ecf1cf4-e6a9-4770-a519-588fab68c224",
   "metadata": {},
   "source": [
    "## all image stacks from plate 1:"
   ]
  },
  {
   "cell_type": "code",
   "execution_count": 1,
   "id": "a9185fde-6fa8-4bbd-b0b8-bb0b43e466f4",
   "metadata": {
    "scrolled": true
   },
   "outputs": [],
   "source": [
    "for g in treatments1.guide.unique():\n",
    "    images = [numpy.load(x)[:,:,:3] for x in sorted(glob.glob(path + '/processed/plate1/images/' + g + '/*.npy'))]\n",
    "    labels = [x.split('/')[-1].split('.')[0] for x in sorted(glob.glob(path + '/processed/plate1/images/' + g + '/*.npy'))]\n",
    "    fig = plt.figure(figsize=(20, 20))\n",
    "    for idx in numpy.arange(len(images)):\n",
    "        ax = fig.add_subplot(8, 8, idx+1, xticks=[], yticks=[])\n",
    "        plt.imshow((images[idx]/.1).astype(numpy.uint8))\n",
    "        ax.set_title(labels[idx])\n",
    "    plt.suptitle(g, size=20, fontweight='bold', y=.925)"
   ]
  },
  {
   "cell_type": "markdown",
   "id": "18cbc977-9778-4e4b-b4dd-722bfbf197e9",
   "metadata": {},
   "source": [
    "## plate 2:"
   ]
  },
  {
   "cell_type": "code",
   "execution_count": 2,
   "id": "a2f01adc-b2ba-476b-9349-e6c23557b584",
   "metadata": {
    "scrolled": true
   },
   "outputs": [],
   "source": [
    "for g in treatments2.guide.unique():\n",
    "    images = [numpy.load(x)[:,:,:3] for x in sorted(glob.glob(path + '/processed/plate2/images/' + g + '/*.npy'))]\n",
    "    labels = [x.split('/')[-1].split('.')[0] for x in sorted(glob.glob(path + '/processed/plate2/images/' + g + '/*.npy'))]\n",
    "    fig = plt.figure(figsize=(20, 20))\n",
    "    for idx in numpy.arange(len(images)):\n",
    "        ax = fig.add_subplot(8, 8, idx+1, xticks=[], yticks=[])\n",
    "        plt.imshow((images[idx]/.1).astype(numpy.uint8))\n",
    "        ax.set_title(labels[idx])\n",
    "    plt.suptitle(g, size=20, fontweight='bold', y=.925)"
   ]
  },
  {
   "cell_type": "markdown",
   "id": "7f2ea7e1-c1a8-44e9-8bd6-97cce5495bec",
   "metadata": {},
   "source": [
    "## plate 3:"
   ]
  },
  {
   "cell_type": "code",
   "execution_count": 3,
   "id": "fe4a9672-afdf-4d2b-aa8b-744e37fb680f",
   "metadata": {
    "scrolled": true
   },
   "outputs": [],
   "source": [
    "for g in treatments3.guide.unique():\n",
    "    images = [numpy.load(x)[:,:,:3] for x in sorted(glob.glob(path + '/processed/plate3/images/' + g + '/*.npy'))]\n",
    "    labels = [x.split('/')[-1].split('.')[0] for x in sorted(glob.glob(path + '/processed/plate3/images/' + g + '/*.npy'))]\n",
    "    fig = plt.figure(figsize=(20, 20))\n",
    "    for idx in numpy.arange(len(images)):\n",
    "        ax = fig.add_subplot(8, 8, idx+1, xticks=[], yticks=[])\n",
    "        plt.imshow((images[idx]/.1).astype(numpy.uint8))\n",
    "        ax.set_title(labels[idx])\n",
    "    plt.suptitle(g, size=20, fontweight='bold', y=.925)"
   ]
  },
  {
   "cell_type": "markdown",
   "id": "c0b8bdc6-eea4-4c31-a976-66f0f0527f31",
   "metadata": {},
   "source": [
    "## plate 4:"
   ]
  },
  {
   "cell_type": "code",
   "execution_count": 4,
   "id": "cf6b750a-5772-4a2f-92b4-b9fb409b6aea",
   "metadata": {
    "scrolled": true
   },
   "outputs": [],
   "source": [
    "for g in treatments4.guide.unique():\n",
    "    images = [numpy.load(x)[:,:,:3] for x in sorted(glob.glob(path + '/processed/plate4/images/' + g + '/*.npy'))]\n",
    "    labels = [x.split('/')[-1].split('.')[0] for x in sorted(glob.glob(path + '/processed/plate4/images/' + g + '/*.npy'))]\n",
    "    fig = plt.figure(figsize=(20, 20))\n",
    "    for idx in numpy.arange(len(images)):\n",
    "        ax = fig.add_subplot(8, 8, idx+1, xticks=[], yticks=[])\n",
    "        plt.imshow((images[idx]/.1).astype(numpy.uint8))\n",
    "        ax.set_title(labels[idx])\n",
    "    plt.suptitle(g, size=20, fontweight='bold', y=.925)"
   ]
  },
  {
   "cell_type": "code",
   "execution_count": null,
   "id": "8f14b983-3c42-43fb-aa3b-9c6eaf03684a",
   "metadata": {},
   "outputs": [],
   "source": []
  },
  {
   "cell_type": "code",
   "execution_count": null,
   "id": "afe53e59-ff7d-4912-a1ee-8539cd3acb4d",
   "metadata": {},
   "outputs": [],
   "source": []
  },
  {
   "cell_type": "markdown",
   "id": "cd41d292-0514-4ed8-bc4b-77dc3eebca47",
   "metadata": {},
   "source": [
    "## look at individual cells from specific image:"
   ]
  },
  {
   "cell_type": "code",
   "execution_count": 5,
   "id": "ed9ae9a9-7600-4bee-b961-0148e16bf4ef",
   "metadata": {
    "scrolled": true
   },
   "outputs": [],
   "source": [
    "# fill in plate & channel - nuclei only or stack of 3, and well# or field of view of image:\n",
    "# e.g. here\n",
    "\n",
    "plate = 4\n",
    "channel = 'stack' # or dapi\n",
    "well = 'M05_s2' # or M05\n",
    "\n",
    "p = {1:treatments1, 2:treatments2, 3:treatments3, 4:treatments4}\n",
    "guide = p[plate][p[plate]['well']==well[:3]]['guide'].item()\n",
    "print(guide)\n",
    "\n",
    "for c in glob.glob(path + '/processed/plate' + str(plate) + '/cells/' + guide + '/' + well + '*.npy'):\n",
    "    if channel == 'stack':\n",
    "        img = numpy.load(c)[:,:,:3]\n",
    "        plt.imshow(img)\n",
    "        plt.axis('off')\n",
    "        plt.show()\n",
    "    elif channel == 'dapi':\n",
    "        img = numpy.load(c)[:,:,3]\n",
    "        plt.imshow(img, cmap='binary_r')\n",
    "        plt.axis('off')\n",
    "        plt.show()"
   ]
  },
  {
   "cell_type": "code",
   "execution_count": null,
   "id": "4d36a4c2-6307-4c83-b331-c93336ad7e13",
   "metadata": {},
   "outputs": [],
   "source": []
  },
  {
   "cell_type": "code",
   "execution_count": 6,
   "id": "0d069522-c1b6-4ef8-b898-7a8d8b6c4d3d",
   "metadata": {},
   "outputs": [],
   "source": [
    "# mito channel only:\n",
    "for g in ['DNM1L', 'MFN2_2', 'non-targeting_00999']:\n",
    "    images = [numpy.load(x)[:,:,1] for x in sorted(glob.glob(path + '/processed/plate1/images/' + g + '/*.npy'))]\n",
    "    labels = [x.split('/')[-1].split('.')[0] for x in sorted(glob.glob(path + '/processed/plate1/images/' + g + '/*.npy'))]\n",
    "    fig = plt.figure(figsize=(20, 20))\n",
    "    for idx in numpy.arange(len(images)):\n",
    "        ax = fig.add_subplot(8, 8, idx+1, xticks=[], yticks=[])\n",
    "        plt.imshow((images[idx]/.1).astype(numpy.uint8))\n",
    "        ax.set_title(labels[idx])\n",
    "    plt.suptitle(g, size=20, fontweight='bold')"
   ]
  },
  {
   "cell_type": "code",
   "execution_count": null,
   "id": "dbad8cfb-44e6-40ce-b2db-a809cebcfdd7",
   "metadata": {},
   "outputs": [],
   "source": []
  },
  {
   "cell_type": "code",
   "execution_count": 7,
   "id": "82ba57ea-3b8b-4340-861b-1ae898b73679",
   "metadata": {
    "scrolled": true
   },
   "outputs": [],
   "source": [
    "# looking at mitochondria channel only:\n",
    "plate = 1\n",
    "guide = 'DNM1L'\n",
    "well = 'M07_s3'\n",
    "for c in sorted(glob.glob(path + '/processed/plate' + str(plate) + '/cells/' + guide + '/' + well + '*.npy')):\n",
    "    img = numpy.load(c)[:,:,1]\n",
    "    plt.imshow(img, cmap='binary_r')\n",
    "    plt.axis('off')\n",
    "    plt.title(c.split('.')[0].split('_')[-1])\n",
    "    plt.show()"
   ]
  },
  {
   "cell_type": "code",
   "execution_count": 8,
   "id": "d9d6269f-39d7-4050-acb7-87c3584e9070",
   "metadata": {
    "scrolled": true
   },
   "outputs": [],
   "source": [
    "plate = 1\n",
    "guide = 'non-targeting_00999'\n",
    "well = 'E18_s3'\n",
    "for c in sorted(glob.glob(path + '/processed/plate' + str(plate) + '/cells/' + guide + '/' + well + '*.npy')):\n",
    "    img = numpy.load(c)[:,:,1]\n",
    "    plt.imshow(img, cmap='binary_r')\n",
    "    plt.axis('off')\n",
    "    plt.title(c.split('.')[0].split('_')[-1])\n",
    "    plt.show()"
   ]
  },
  {
   "cell_type": "code",
   "execution_count": null,
   "id": "28741f4f-8fd9-489e-aa53-a078cac785b3",
   "metadata": {},
   "outputs": [],
   "source": []
  },
  {
   "cell_type": "code",
   "execution_count": null,
   "id": "cdb470af-f671-4845-aa51-5acaa484b3e4",
   "metadata": {},
   "outputs": [],
   "source": []
  }
 ],
 "metadata": {
  "kernelspec": {
   "display_name": "Python 3 (ipykernel)",
   "language": "python",
   "name": "python3"
  },
  "language_info": {
   "codemirror_mode": {
    "name": "ipython",
    "version": 3
   },
   "file_extension": ".py",
   "mimetype": "text/x-python",
   "name": "python",
   "nbconvert_exporter": "python",
   "pygments_lexer": "ipython3",
   "version": "3.11.5"
  }
 },
 "nbformat": 4,
 "nbformat_minor": 5
}
